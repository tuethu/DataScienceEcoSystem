{
 "cells": [
  {
   "cell_type": "markdown",
   "metadata": {},
   "source": [
    "<center>\n",
    "    <img src=\"https://cf-courses-data.s3.us.cloud-object-storage.appdomain.cloud/IBMDeveloperSkillsNetwork-DS0105EN-SkillsNetwork/labs/Module2/images/SN_web_lightmode.png\" width=\"300\" alt=\"cognitiveclass.ai logo\">\n",
    "</center>\n"
   ]
  },
  {
   "cell_type": "markdown",
   "metadata": {},
   "source": [
    "#### Add your code below following the instructions given in the course\n"
   ]
  },
  {
   "cell_type": "markdown",
   "metadata": {},
   "source": [
    "#Exercise 1: Create a Jupyter Notebook\n",
    "\n",
    "#Create a new Jupyter notebook called DataScienceEcosystem.ipynb\n",
    "\n",
    "#Note: The next item in the course will launch JupyterLite with an empty notebook with this name that you can use to complete rest of the Exercises. You can also use any other Jupyter notebook environment (e.g. Anaconda) that you prefer to complete the assignment.\n",
    "\n",
    "#Exercise 2: Create markdown cell with title of the notebook\n",
    "\n",
    "#Create a markdown cell with the title Data Science Tools and Ecosystem using H1 style heading.\n",
    "\n",
    "#Take a screenshot of the markdown cell and name it as 2-title.png\n",
    "\n",
    "#Execute it as a markdown cell\n",
    "\n",
    "# Data Science Tools and Ecosystem\n"
   ]
  },
  {
   "cell_type": "markdown",
   "metadata": {},
   "source": [
    "#Exercise 3 - Create a markdown cell for an introduction\n",
    "\n",
    "#Write an introductory sentence about the notebook such as the follows:\n",
    "\n",
    "#In this notebook, Data Science Tools and Ecosystem are summarized.\n",
    "\n",
    "#Take a screenshot of the markdown cell and name it as 3-intro.png\n",
    "\n",
    "\n",
    "**In this notebook, Data Science Tools and Ecosystem are summarized.**\n",
    "\n",
    "___In this notebook, Data Science Tools and Ecosystem are summarized.___"
   ]
  },
  {
   "cell_type": "markdown",
   "metadata": {},
   "source": [
    "#Exercise 4 - Create a markdown cell to list data science languages\n",
    "\n",
    "#Start the cell with an overview line such as:\n",
    "\n",
    "#Some of the popular languages that Data Scientists use are:\n",
    "\n",
    "#Then create an ordered list (i.e. numbered) listing 3 (or more) commonly used languages for data science.\n",
    "\n",
    "#Take a screenshot of the markdown cell and name it as 4-dslanguages.png\n",
    "\n",
    "Some of the popular languages that Data Scientists use are:\n",
    "1. Python\n",
    "2. R\n",
    "3. SQL\n",
    "4. Java\n",
    "5. Julia\n",
    "6. Scala\n",
    "7. C/C++\n",
    "8. JavaScript\n",
    "9. Swift\n",
    "10. Go\n",
    "11. MATLAB\n",
    "12. SAS"
   ]
  },
  {
   "cell_type": "markdown",
   "metadata": {},
   "source": [
    "#Exercise 5 - Create a markdown cell to list data science libraries\n",
    "\n",
    "#Add an overview line to the cell like:\n",
    "\n",
    "#Some of the commonly used libraries used by Data Scientists include:\n",
    "\n",
    "#Below this line add an ordered list listing 3 (or more) commonly used libraries in data science.\n",
    "\n",
    "#Take a screenshot of the markdown cell and name it as 5-dslibraries.png\n",
    "\n",
    "Some of the commonly used libraries used by Data Scientists include:\n",
    "1. NumPy\n",
    "2. Pandas\n",
    "3. Matplotlib\n",
    "4. Seaborn\n",
    "5. Scikit-learn\n",
    "6. TensorFlow\n",
    "7. Keras\n",
    "8. Statsmodels\n",
    "9. PyTorch\n",
    "10. XGBoost"
   ]
  },
  {
   "cell_type": "markdown",
   "metadata": {},
   "source": [
    "#Exercise 6 - Create a markdown cell with a table of Data Science tools\n",
    "\n",
    "#Create a single column table in this cell with the first row containing the header Data Science Tools. The subsequent three rows in the table should indicate three development environment open source tools used in data science.\n",
    "\n",
    "#Take a screenshot of the markdown cell and name it as 6-dstools.png\n",
    "\n",
    "#Hint: Refer to Lab: Using Markdowns in Jupyter Notebooks to create a table.\n",
    "\n",
    "| Data Science Tools |\n",
    "| -------------|\n",
    "| 1. Jupyter Notebooks|\n",
    "| 2. RStudio |\n",
    "| 3. Google Colab |"
   ]
  },
  {
   "cell_type": "markdown",
   "metadata": {},
   "source": [
    "#Exercise 7 - Create a markdown cell introducing arithmetic expression examples\n",
    "\n",
    "#Add a line in this cell with H3 style heading with text like:\n",
    "\n",
    "#Below are a few examples of evaluating arithmetic expressions in Python.\n",
    "\n",
    "#Take a screenshot of the markdown cell and name it as 7-introarithmetic.png\n",
    "\n",
    "### Below are a few examples of evaluating arithmetic expressions in Python."
   ]
  },
  {
   "cell_type": "code",
   "execution_count": 8,
   "metadata": {},
   "outputs": [
    {
     "data": {
      "text/plain": [
       "17"
      ]
     },
     "execution_count": 8,
     "metadata": {},
     "output_type": "execute_result"
    }
   ],
   "source": [
    "#Exercise 8 - Create a code cell to multiply and add numbers\n",
    "#In this code cell evaluate the expression (3*4)+5.\n",
    "#Insert a comment line before the expression to explain the operation e.g.  This a simple arithmetic expression to mutiply then add integers.\n",
    "#Then execute the cell to ensure the expression returns the expected output of 17.\n",
    "\n",
    "#Take a screenshot of the code cell with output and name it as 8-multiplyandaddintegers.png\n",
    "\n",
    "#This a simple arithmetic expression to mutiply then add integers.\n",
    "(3*4)+5"
   ]
  },
  {
   "cell_type": "code",
   "execution_count": 9,
   "metadata": {},
   "outputs": [
    {
     "data": {
      "text/plain": [
       "3.3333333333333335"
      ]
     },
     "execution_count": 9,
     "metadata": {},
     "output_type": "execute_result"
    }
   ],
   "source": [
    "#Exercise 9 - Create a code cell to convert minutes to hours\n",
    "\n",
    "#In this code cell write an expression that converts 200 minutes into hours.\n",
    "#Insert a comment line before the expression to explain the operation e.g.  This will convert 200 minutes to hours by diving by 60.\n",
    "#Run the cell to evaluate the expression.\n",
    "\n",
    "#Take a screenshot of the code cell with output and name it as 9-hourstominutes.png\n",
    "\n",
    "#This will convert 200 minutes to hours by diving by 60\n",
    "200/60\n"
   ]
  },
  {
   "cell_type": "markdown",
   "metadata": {},
   "source": [
    "#Exercise 10 - Insert a markdown cell to list Objectives\n",
    "\n",
    "#Below the introduction cell created in Exercise 3, insert a new markdown cell to list the objectives that this notebook covered (i.e. some of the key takeaways from the course). \n",
    "\n",
    "#In this new cell start with an introductory line titled: Objectives: in bold font. Then using an unordered list (bullets) indicate 3 to 5 items covered in this notebook, such as List popular languages for Data Science.\n",
    "\n",
    "#Take a screenshot of the markdown cell and name it as 10-objectives.png\n",
    "\n",
    "___Objectives___\n",
    "* Some of the popular languages that Data Scientists use\n",
    "* Some of the commonly used libraries used by Data Scientists\n",
    "* Some of the Data Science Tools"
   ]
  },
  {
   "cell_type": "markdown",
   "metadata": {},
   "source": [
    "#Exercise 11 - Create a markdown cell to indicate the Author's name\n",
    "\n",
    "#In this markdown cell markdown cell include the following text Author in H2 style heading. Include your name as regular text below the word Author.\n",
    "\n",
    "#Take a screenshot of the markdown cell and name it as 11-authordetails.png\n",
    "\n",
    "#Note: Save and download the notebook.\n",
    "\n",
    "## Author\n",
    "Tue Thu"
   ]
  },
  {
   "cell_type": "code",
   "execution_count": null,
   "metadata": {},
   "outputs": [],
   "source": [
    "#Exercise 12 - Share your notebook through GitHub\n",
    "\n",
    "#Upload your notebook to a public respository on GitHub.\n",
    "\n",
    "#Note : Please keep the GitHub repo link of the notebook handy.\n",
    "#You will need to submit this link as a part of the assignment evaluation.\n",
    "\n",
    "#Hint: Refer to Lab: Working with files in Jupyter Notebooks to download the notebook from SN Labs.\n"
   ]
  },
  {
   "cell_type": "code",
   "execution_count": null,
   "metadata": {},
   "outputs": [],
   "source": [
    "#Exercise 13 -Take a screenshot of the first page of the notebook and save it as 1-notebook.png\n",
    "\n",
    "#Refer to Hands-on Lab: Getting Started with GitHub to upload the downloaded notebook to GitHub."
   ]
  }
 ],
 "metadata": {
  "kernelspec": {
   "display_name": "Python 3 (ipykernel)",
   "language": "python",
   "name": "python3"
  },
  "language_info": {
   "codemirror_mode": {
    "name": "ipython",
    "version": 3
   },
   "file_extension": ".py",
   "mimetype": "text/x-python",
   "name": "python",
   "nbconvert_exporter": "python",
   "pygments_lexer": "ipython3",
   "version": "3.12.8"
  }
 },
 "nbformat": 4,
 "nbformat_minor": 4
}
